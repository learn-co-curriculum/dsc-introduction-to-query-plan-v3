{
 "cells": [
  {
   "cell_type": "markdown",
   "metadata": {},
   "source": [
    "# Introduction to Query Plan\n",
    "\n",
    "## Introduction\n",
    "\n",
    "Anyone experienced with SQL servers probably ran into some issues with query performance. Query plan helps you to understand how the computation is running, and if you know how to use this tool, you can see how you can optimize queries for performance.\n",
    "\n",
    "## Objectives\n",
    "- Learn how to use query plan tool\n"
   ]
  },
  {
   "cell_type": "markdown",
   "metadata": {},
   "source": [
    "### What is query plan?\n",
    "\n",
    "A query plan is a list of instructions that the database follows in order to execute a query on the data. Query plans show the steps taken to execute the given command. Depending on the database you use, it can also specify the expected cost for each section of the command. The queries are transformed into executable commands by query optimizier. The Query Optimizer generates multiple Query Plans for a single query and determines the most efficient plan to run.\n",
    "Depending on the GUI tool you use, there may be a query planner tab, but from the cli tools, you can get the same effect using `EXPLAIN` or `EXPLAIN QUERY PLAN`."
   ]
  },
  {
   "cell_type": "markdown",
   "metadata": {},
   "source": [
    "### How to use it?\n",
    "\n",
    "In this exercise, we're going to have a glimpse of how to view query plan.\n",
    "\n",
    "Open a terminal window, and enter `sqlite` to start sqlite cli.\n",
    "\n",
    "Enter following DDL below:\n",
    "\n",
    "```\n",
    "CREATE TABLE contacts (\n",
    "\tfirst_name text NOT NULL,\n",
    "\tlast_name text NOT NULL,\n",
    "\temail text NOT NULL\n",
    ");\n",
    "```\n",
    "\n",
    "We're also going to create an index, that we'll talk about later.\n",
    "\n",
    "```\n",
    "CREATE UNIQUE INDEX idx_contacts_email \n",
    "ON contacts (email);\n",
    "```\n",
    "\n",
    "Then insert some records:\n",
    "\n",
    "```\n",
    "INSERT INTO contacts (first_name, last_name, email)\n",
    "VALUES('David','Brown','david.brown@flatironschool.com'),\n",
    "      ('Lisa','Smith','lisa.smith@flatironschool.com');\n",
    "```      \n",
    "\n",
    "At this point, you should be able to run this query:\n",
    "\n",
    "```\n",
    "SELECT\n",
    "\tfirst_name,\n",
    "\tlast_name,\n",
    "\temail\n",
    "FROM\n",
    "\tcontacts\n",
    "WHERE\n",
    "\temail = 'lisa.smith@flatironschool.com';\n",
    "```\n",
    "\n",
    "You should see something like this.\n",
    "\n",
    "!(query_result)[./images/query_result.png]"
   ]
  },
  {
   "cell_type": "markdown",
   "metadata": {},
   "source": [
    "The next step, we'll use the `EXPLAIN QUERY PLAN` keyword to see what it shows.\n",
    "\n",
    "```\n",
    "EXPLAIN QUERY PLAN \n",
    "SELECT\n",
    "      first_name,\n",
    "      last_name,\n",
    "      email\n",
    "FROM\n",
    "      contacts\n",
    "WHERE\n",
    "      email = 'lisa.smith@flatironschool.com';\n",
    "```\n",
    "\n",
    "You'll see as the result, the query plan shows:\n",
    "\n",
    "```\n",
    "QUERY PLAN\n",
    "`--SEARCH TABLE contacts USING INDEX idx_contacts_email (email=?)\n",
    "```\n",
    "\n",
    "It's a fairly simple exercise so the query plan is very simple. It tells exactly the query executed by searching a table named `contacts` using index that we created earlier.\n",
    "\n",
    "As we progress, we'll use the query plan in much more complicated queries to see what really goes behind SQL servers."
   ]
  },
  {
   "cell_type": "markdown",
   "metadata": {},
   "source": [
    "### Summary\n",
    "\n",
    "In this lesson, we went over briefly what query plan is and how to view query plan through cli tools. If there are GUI tools available, you may be able to see more friendly version of query plans."
   ]
  }
 ],
 "metadata": {
  "kernelspec": {
   "display_name": "Python 3",
   "language": "python",
   "name": "python3"
  },
  "language_info": {
   "codemirror_mode": {
    "name": "ipython",
    "version": 3
   },
   "file_extension": ".py",
   "mimetype": "text/x-python",
   "name": "python",
   "nbconvert_exporter": "python",
   "pygments_lexer": "ipython3",
   "version": "3.8.5"
  }
 },
 "nbformat": 4,
 "nbformat_minor": 4
}
